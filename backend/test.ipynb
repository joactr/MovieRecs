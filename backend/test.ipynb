{
 "cells": [
  {
   "cell_type": "code",
   "execution_count": 5,
   "metadata": {},
   "outputs": [],
   "source": [
    "import random\n",
    "import re\n",
    "from os import sep\n",
    "\n",
    "import numpy as np\n",
    "import pandas as pd\n",
    "import requests\n",
    "import tmdbsimple as tmdb\n",
    "from scipy.stats import pearsonr\n",
    "from surprise import SVD, Dataset, KNNBasic, Reader\n",
    "from surprise.model_selection import cross_validate\n",
    "from collections import defaultdict, Counter\n",
    "from itertools import islice\n",
    "import collections"
   ]
  },
  {
   "cell_type": "code",
   "execution_count": 2,
   "metadata": {},
   "outputs": [],
   "source": [
    "tmdb.REQUESTS_SESSION = requests.Session()\n",
    "tmdb.API_KEY = '1e11e7d4c5f3aad6e459fc0f63bfb0f5'\n",
    "tmdb.REQUESTS_TIMEOUT = 5"
   ]
  },
  {
   "cell_type": "code",
   "execution_count": 3,
   "metadata": {},
   "outputs": [],
   "source": [
    "users_df = pd.read_csv(\n",
    "    \"../data/users.txt\", names=[\"user_id\", \"age\", \"gender\", \"occupation\"], sep=\"\\t\"\n",
    ")"
   ]
  },
  {
   "cell_type": "code",
   "execution_count": 4,
   "metadata": {},
   "outputs": [
    {
     "data": {
      "text/html": [
       "<div>\n",
       "<style scoped>\n",
       "    .dataframe tbody tr th:only-of-type {\n",
       "        vertical-align: middle;\n",
       "    }\n",
       "\n",
       "    .dataframe tbody tr th {\n",
       "        vertical-align: top;\n",
       "    }\n",
       "\n",
       "    .dataframe thead th {\n",
       "        text-align: right;\n",
       "    }\n",
       "</style>\n",
       "<table border=\"1\" class=\"dataframe\">\n",
       "  <thead>\n",
       "    <tr style=\"text-align: right;\">\n",
       "      <th></th>\n",
       "      <th>user_id</th>\n",
       "      <th>age</th>\n",
       "      <th>gender</th>\n",
       "      <th>occupation</th>\n",
       "    </tr>\n",
       "  </thead>\n",
       "  <tbody>\n",
       "    <tr>\n",
       "      <th>0</th>\n",
       "      <td>1</td>\n",
       "      <td>24</td>\n",
       "      <td>M</td>\n",
       "      <td>technician</td>\n",
       "    </tr>\n",
       "    <tr>\n",
       "      <th>1</th>\n",
       "      <td>2</td>\n",
       "      <td>53</td>\n",
       "      <td>F</td>\n",
       "      <td>other</td>\n",
       "    </tr>\n",
       "    <tr>\n",
       "      <th>2</th>\n",
       "      <td>3</td>\n",
       "      <td>23</td>\n",
       "      <td>M</td>\n",
       "      <td>writer</td>\n",
       "    </tr>\n",
       "    <tr>\n",
       "      <th>3</th>\n",
       "      <td>4</td>\n",
       "      <td>24</td>\n",
       "      <td>M</td>\n",
       "      <td>technician</td>\n",
       "    </tr>\n",
       "    <tr>\n",
       "      <th>4</th>\n",
       "      <td>5</td>\n",
       "      <td>33</td>\n",
       "      <td>F</td>\n",
       "      <td>other</td>\n",
       "    </tr>\n",
       "    <tr>\n",
       "      <th>...</th>\n",
       "      <td>...</td>\n",
       "      <td>...</td>\n",
       "      <td>...</td>\n",
       "      <td>...</td>\n",
       "    </tr>\n",
       "    <tr>\n",
       "      <th>938</th>\n",
       "      <td>939</td>\n",
       "      <td>26</td>\n",
       "      <td>F</td>\n",
       "      <td>student</td>\n",
       "    </tr>\n",
       "    <tr>\n",
       "      <th>939</th>\n",
       "      <td>940</td>\n",
       "      <td>32</td>\n",
       "      <td>M</td>\n",
       "      <td>administrator</td>\n",
       "    </tr>\n",
       "    <tr>\n",
       "      <th>940</th>\n",
       "      <td>941</td>\n",
       "      <td>20</td>\n",
       "      <td>M</td>\n",
       "      <td>student</td>\n",
       "    </tr>\n",
       "    <tr>\n",
       "      <th>941</th>\n",
       "      <td>942</td>\n",
       "      <td>48</td>\n",
       "      <td>F</td>\n",
       "      <td>librarian</td>\n",
       "    </tr>\n",
       "    <tr>\n",
       "      <th>942</th>\n",
       "      <td>943</td>\n",
       "      <td>22</td>\n",
       "      <td>M</td>\n",
       "      <td>student</td>\n",
       "    </tr>\n",
       "  </tbody>\n",
       "</table>\n",
       "<p>943 rows × 4 columns</p>\n",
       "</div>"
      ],
      "text/plain": [
       "     user_id  age gender     occupation\n",
       "0          1   24      M     technician\n",
       "1          2   53      F          other\n",
       "2          3   23      M         writer\n",
       "3          4   24      M     technician\n",
       "4          5   33      F          other\n",
       "..       ...  ...    ...            ...\n",
       "938      939   26      F        student\n",
       "939      940   32      M  administrator\n",
       "940      941   20      M        student\n",
       "941      942   48      F      librarian\n",
       "942      943   22      M        student\n",
       "\n",
       "[943 rows x 4 columns]"
      ]
     },
     "execution_count": 4,
     "metadata": {},
     "output_type": "execute_result"
    }
   ],
   "source": [
    "users_df"
   ]
  },
  {
   "cell_type": "code",
   "execution_count": 107,
   "metadata": {},
   "outputs": [],
   "source": [
    "def get_user_type(gender, age, occupation):\n",
    "    res = 0\n",
    "    group1 = ['doctor', 'healthcare', 'entertainment']\n",
    "    group2 = ['engineer', 'programmer', 'scientist', 'technician']\n",
    "    group3 = ['artist', 'writer', 'librarian', 'homemaker']\n",
    "    group4 = ['none', 'other', 'student', 'retired']\n",
    "    group5 = ['executive', 'lawyer', 'administrator', 'salesman', 'marketing']\n",
    "\n",
    "    if occupation in group1:\n",
    "        if age < 23:\n",
    "            res = 1 if gender == 'M' else 2\n",
    "        elif 24 < age < 40:\n",
    "            res = 3 if gender == 'M' else 4\n",
    "        elif 41 < age < 60:\n",
    "            res = 5 if gender == 'M' else 6\n",
    "        else:\n",
    "            res = 7 if gender == 'M' else 8\n",
    "    elif occupation in group2:\n",
    "        if age < 23:\n",
    "            res = 9 if gender == 'M' else 9\n",
    "        elif 24 < age < 40:\n",
    "            res = 11 if gender == 'M' else 12\n",
    "        elif 41 < age < 60:\n",
    "            res = 13 if gender == 'M' else 14\n",
    "        else:\n",
    "            res = 15 if gender == 'M' else 16\n",
    "    elif occupation in group3:\n",
    "        if age < 23:\n",
    "            res = 17 if gender == 'M' else 18\n",
    "        elif 24 < age < 40:\n",
    "            res = 19 if gender == 'M' else 20\n",
    "        elif 41 < age < 60:\n",
    "            res = 21 if gender == 'M' else 22\n",
    "        else:\n",
    "            res = 23 if gender == 'M' else 24\n",
    "    elif occupation in group4:\n",
    "        if age < 23:\n",
    "            res = 25 if gender == 'M' else 26\n",
    "        elif 24 < age < 40:\n",
    "            res = 27 if gender == 'M' else 28\n",
    "        elif 41 < age < 60:\n",
    "            res = 29 if gender == 'M' else 30\n",
    "        else:\n",
    "            res = 31 if gender == 'M' else 32\n",
    "    elif occupation in group5:\n",
    "        if age < 23:\n",
    "            res = 33 if gender == 'M' else 34\n",
    "        elif 24 < age < 40:\n",
    "            res = 35 if gender == 'M' else 36\n",
    "        elif 41 < age < 60:\n",
    "            res = 37 if gender == 'M' else 38\n",
    "        else:\n",
    "            res = 39 if gender == 'M' else 40\n",
    "\n",
    "    return res - 1 if res > 9 else res\n",
    "\n",
    "def movie_votes_demographic(grupos, ratings, movie_id, grupo):\n",
    "    usuarios = [k for k, v in grupos.items() if v == grupo]\n",
    "    return len(ratings[(ratings.user_id.isin(usuarios)) & (ratings.movie_id == movie_id)].index), ratings[(ratings.user_id.isin(usuarios)) & (ratings.movie_id == movie_id)].mean()['rating'], ratings[ratings.movie_id == movie_id].mean()['rating']\n",
    "\n",
    "def genre_seen(films_df, ratings, user_id, genre_name):\n",
    "    scores = []\n",
    "    for film_id in ratings[ratings['user_id'] == user_id].movie_id.tolist():\n",
    "        if films_df[films_df['movie_id'] == film_id][genre_name].tolist()[0] == 1:\n",
    "            scores.append(ratings[(ratings['movie_id'] == film_id) & (ratings['user_id'] == user_id)]['rating'].tolist()[0])\n",
    "\n",
    "    return sum(scores)/len(scores) if scores != [] else 0\n",
    "\n",
    "def take(n, iterable):\n",
    "    res = {}\n",
    "    i = 0\n",
    "    for k, v in iterable.items():\n",
    "        if i >= n:\n",
    "            break\n",
    "        res[k] = v\n",
    "        i += 1\n",
    "        \n",
    "    return res\n",
    "\n",
    "def get_genres_score(users, generos, films_df, ratings):\n",
    "    best_genres = {}\n",
    "    for u in users:\n",
    "        for i in generos['genre_name'].tolist():\n",
    "            puntos = genre_seen(films_df, ratings, u, i)\n",
    "            if puntos > 2.5:\n",
    "                if i not in best_genres.keys():\n",
    "                    best_genres[i] = puntos/len(users)\n",
    "                else:\n",
    "                    best_genres[i] += puntos/len(users)\n",
    "\n",
    "    best_genres = {k: v for k, v in sorted(best_genres.items(), key=lambda item: item[1])}\n",
    "    best_genres = take(6, best_genres)\n",
    "\n",
    "    pref = []\n",
    "\n",
    "    for genero in generos['genre_name'].tolist():\n",
    "        add = False\n",
    "        for k, v in best_genres.items():\n",
    "            if genero == k:\n",
    "                add = True\n",
    "                break\n",
    "        if add:\n",
    "            pref.append(1)\n",
    "        else:\n",
    "            pref.append(0)\n",
    "\n",
    "    return pref\n",
    "    \n",
    "\n",
    "def obtener_vecinos(preferencias, user, k=1):\n",
    "    vecinos = [0]*k\n",
    "    vecinos_score = [0]*k\n",
    "    pref = preferencias[user]\n",
    "    for i in range(0, preferencias.shape[0]):\n",
    "        if i == user:\n",
    "            continue\n",
    "        pref_comp = np.matrix([pref, preferencias[i]])\n",
    "        score = sum([1 if pref_comp[0,j] == pref_comp[1,j] else 0 for j in range(0, pref_comp.shape[1])])\n",
    "        if score > min(vecinos_score):\n",
    "            vecinos[vecinos_score.index(min(vecinos_score))] = i + 1\n",
    "            vecinos_score[vecinos_score.index(min(vecinos_score))] = score\n",
    "            \n",
    "            \n",
    "    return vecinos, vecinos_score\n",
    "\n",
    "def get_dg_pref(dg, generos, films_df, ratings):\n",
    "    res = []\n",
    "    for x in set(dg.values()):\n",
    "        u_dg = [k for k, v in dg.items() if v == x]\n",
    "        scores = get_genres_score(u_dg, generos, films_df, ratings)\n",
    "        res.append(scores)\n",
    "\n",
    "    return np.matrix(res)\n",
    "        \n",
    "\n"
   ]
  },
  {
   "cell_type": "code",
   "execution_count": 5,
   "metadata": {},
   "outputs": [],
   "source": [
    "grupos_demograficos = {}\n",
    "for user_id in users_df.user_id.unique().tolist():\n",
    "    user = users_df[users_df.user_id == user_id]\n",
    "    user_demo_group = get_user_type(user.gender.tolist()[0], user.age.tolist()[0], user.occupation.tolist()[0])\n",
    "    grupos_demograficos[user_id] = user_demo_group"
   ]
  },
  {
   "cell_type": "code",
   "execution_count": 6,
   "metadata": {},
   "outputs": [],
   "source": [
    "ratings = pd.read_csv(\n",
    "    \"../data/u1_base.txt\", names=[\"user_id\", \"movie_id\", \"rating\"], sep=\"\\t\"\n",
    ")\n",
    "generos = pd.read_csv(\"../data/genre.txt\", names=[\"genre_id\", \"genre_name\"], sep=\"\\t\")\n",
    "all_genre = generos.genre_name.values.tolist()\n",
    "all_genre = [\"movie_id\"] + all_genre + [\"title\"]\n",
    "films_df = pd.read_csv(\"../data/items.txt\",encoding=\"iso-8859-1\" ,names=all_genre, sep=\"\\t\")"
   ]
  },
  {
   "cell_type": "code",
   "execution_count": 94,
   "metadata": {},
   "outputs": [],
   "source": [
    "preferencias = []\n",
    "for u in ratings.user_id.unique().tolist():\n",
    "    best_genres = []\n",
    "    for i in generos['genre_name'].tolist():\n",
    "        puntos = genre_seen(films_df, ratings, u, i)\n",
    "        if puntos > 2.5:\n",
    "            best_genres.append((i, puntos))\n",
    "\n",
    "    best_genres.sort(key=lambda a: a[1], reverse=True)\n",
    "    best_genres = best_genres[:6]\n",
    "    pref = []\n",
    "    \n",
    "    for genero in generos['genre_name'].tolist():\n",
    "        add = False\n",
    "        for bg in best_genres:\n",
    "            if genero == bg[0]:\n",
    "                add = True\n",
    "                break\n",
    "        if add:\n",
    "            pref.append(1)\n",
    "        else:\n",
    "            pref.append(0)\n",
    "\n",
    "    preferencias.append(pref)"
   ]
  },
  {
   "cell_type": "code",
   "execution_count": 97,
   "metadata": {},
   "outputs": [],
   "source": [
    "preferencias = np.matrix(preferencias)"
   ]
  },
  {
   "cell_type": "code",
   "execution_count": 98,
   "metadata": {},
   "outputs": [],
   "source": [
    "np.savez_compressed('preferencias', a=preferencias)"
   ]
  },
  {
   "cell_type": "code",
   "execution_count": 7,
   "metadata": {},
   "outputs": [],
   "source": [
    "pref_loaded = np.load('preferencias.npz')"
   ]
  },
  {
   "cell_type": "code",
   "execution_count": 37,
   "metadata": {},
   "outputs": [],
   "source": [
    "pref_dg = get_dg_pref(grupos_demograficos, generos, films_df, ratings)"
   ]
  },
  {
   "cell_type": "code",
   "execution_count": 61,
   "metadata": {},
   "outputs": [],
   "source": [
    "pref_dg = np.load('preferencias_demografico.npz')"
   ]
  },
  {
   "cell_type": "code",
   "execution_count": 76,
   "metadata": {},
   "outputs": [],
   "source": [
    "pref_hyb = []\n",
    "for u in ratings.user_id.unique().tolist():\n",
    "    pref = np.round(np.sum(np.matrix([pref_loaded['a'][u-1], pref_dg['a'][grupos_demograficos[u]-1]]), axis=0)/2, 0).tolist()[0]\n",
    "    pref_hyb.append(pref)\n",
    "\n",
    "pref_hyb = np.matrix(pref_hyb)"
   ]
  },
  {
   "cell_type": "code",
   "execution_count": 85,
   "metadata": {},
   "outputs": [],
   "source": [
    "pref_hyb = np.load('preferencias_hibrido.npz')"
   ]
  },
  {
   "cell_type": "code",
   "execution_count": null,
   "metadata": {},
   "outputs": [],
   "source": [
    "puntuaciones={}\n",
    "for user_id in users_df.user_id.unique().tolist():\n",
    "    puntuaciones[user_id] = {}\n",
    "    print(user_id)\n",
    "    dem_group = grupos_demograficos[user_id]\n",
    "    for movie_id in films_df.movie_id.unique().tolist():\n",
    "        v, r, c = movie_votes_demographic(grupos_demograficos, ratings, movie_id, dem_group)\n",
    "        puntuaciones[user_id][movie_id] = v/((v+5)*r) + ((5/(5+v)) * c)"
   ]
  },
  {
   "cell_type": "code",
   "execution_count": 108,
   "metadata": {},
   "outputs": [
    {
     "data": {
      "text/plain": [
       "([58, 47, 3], [17, 17, 17])"
      ]
     },
     "execution_count": 108,
     "metadata": {},
     "output_type": "execute_result"
    }
   ],
   "source": [
    "obtener_vecinos(pref_loaded['a'], 3, 3)"
   ]
  },
  {
   "cell_type": "code",
   "execution_count": 96,
   "metadata": {},
   "outputs": [
    {
     "data": {
      "text/plain": [
       "array([[0, 0, 0, 1, 0, 0, 0, 1, 0, 1, 1, 1, 0, 0, 0, 0, 0, 0, 1],\n",
       "       [0, 0, 1, 1, 0, 1, 0, 0, 0, 1, 0, 0, 1, 0, 0, 0, 0, 0, 1],\n",
       "       [0, 0, 0, 0, 0, 0, 0, 0, 0, 0, 0, 0, 1, 0, 0, 0, 0, 0, 0],\n",
       "       [1, 0, 0, 0, 0, 0, 0, 1, 0, 1, 1, 0, 1, 0, 0, 0, 0, 0, 1],\n",
       "       [0, 0, 1, 0, 0, 0, 1, 1, 0, 1, 0, 0, 1, 1, 0, 0, 0, 0, 0],\n",
       "       [0, 0, 0, 1, 0, 0, 0, 1, 0, 1, 1, 0, 1, 0, 0, 0, 0, 0, 1],\n",
       "       [0, 0, 0, 1, 1, 0, 0, 0, 0, 1, 0, 1, 1, 0, 0, 0, 0, 0, 1],\n",
       "       [0, 0, 1, 1, 0, 0, 0, 1, 0, 1, 0, 1, 0, 0, 0, 0, 0, 0, 1],\n",
       "       [0, 0, 0, 0, 0, 1, 0, 0, 0, 0, 1, 1, 1, 1, 0, 0, 1, 0, 0],\n",
       "       [0, 0, 0, 0, 1, 0, 0, 1, 0, 1, 0, 0, 1, 1, 0, 0, 0, 0, 1],\n",
       "       [0, 0, 0, 1, 0, 0, 0, 1, 0, 1, 1, 1, 0, 0, 0, 0, 0, 0, 1],\n",
       "       [0, 0, 0, 1, 0, 0, 0, 1, 0, 1, 1, 0, 1, 0, 0, 0, 0, 0, 1],\n",
       "       [0, 0, 0, 1, 0, 0, 0, 1, 0, 1, 0, 1, 1, 0, 0, 0, 0, 0, 1],\n",
       "       [0, 0, 0, 1, 1, 0, 0, 1, 0, 1, 0, 1, 0, 0, 0, 0, 0, 0, 1],\n",
       "       [0, 0, 0, 0, 0, 0, 1, 0, 1, 0, 0, 0, 1, 1, 0, 1, 0, 1, 0],\n",
       "       [0, 0, 1, 1, 1, 0, 1, 0, 0, 0, 1, 0, 0, 0, 0, 1, 0, 0, 0],\n",
       "       [0, 0, 0, 1, 0, 0, 1, 1, 0, 1, 1, 0, 0, 0, 0, 0, 0, 0, 1],\n",
       "       [0, 0, 0, 1, 1, 0, 0, 1, 0, 1, 0, 0, 1, 0, 0, 0, 0, 0, 1],\n",
       "       [0, 0, 0, 1, 0, 0, 0, 1, 0, 1, 0, 1, 1, 0, 0, 0, 0, 0, 1],\n",
       "       [0, 0, 0, 1, 0, 0, 0, 1, 0, 1, 0, 1, 1, 0, 0, 0, 0, 0, 1],\n",
       "       [0, 0, 0, 0, 0, 0, 0, 1, 0, 1, 1, 1, 1, 0, 0, 0, 0, 0, 1],\n",
       "       [0, 0, 0, 1, 1, 0, 0, 1, 0, 1, 0, 1, 0, 0, 0, 0, 0, 0, 1],\n",
       "       [0, 0, 0, 1, 0, 0, 0, 1, 0, 1, 1, 0, 1, 0, 0, 0, 0, 0, 1],\n",
       "       [1, 0, 0, 0, 0, 0, 0, 1, 0, 1, 1, 0, 1, 0, 0, 0, 0, 0, 1],\n",
       "       [0, 0, 0, 1, 0, 0, 0, 1, 0, 1, 1, 0, 0, 1, 0, 0, 0, 0, 1],\n",
       "       [0, 0, 0, 0, 0, 0, 0, 1, 0, 1, 1, 1, 1, 0, 0, 0, 0, 0, 1],\n",
       "       [0, 0, 0, 1, 0, 0, 0, 1, 0, 1, 1, 0, 0, 0, 0, 1, 0, 0, 1],\n",
       "       [0, 0, 0, 1, 0, 0, 0, 1, 0, 1, 0, 1, 1, 0, 0, 0, 0, 0, 1],\n",
       "       [0, 0, 0, 1, 0, 0, 0, 1, 0, 1, 1, 1, 0, 0, 0, 0, 0, 0, 1],\n",
       "       [0, 0, 0, 1, 0, 0, 0, 1, 0, 1, 1, 1, 0, 0, 0, 0, 0, 0, 1],\n",
       "       [0, 0, 1, 1, 0, 0, 0, 1, 0, 1, 1, 0, 0, 0, 0, 0, 0, 0, 1],\n",
       "       [0, 0, 0, 1, 1, 0, 0, 1, 0, 1, 1, 0, 1, 0, 0, 0, 0, 0, 0],\n",
       "       [0, 0, 1, 0, 0, 1, 1, 0, 0, 0, 1, 1, 1, 0, 0, 0, 0, 0, 0],\n",
       "       [0, 0, 0, 0, 0, 0, 0, 1, 0, 1, 1, 1, 1, 0, 0, 0, 0, 0, 1],\n",
       "       [0, 0, 0, 0, 0, 0, 0, 1, 0, 1, 1, 1, 1, 0, 0, 0, 0, 0, 1],\n",
       "       [0, 0, 0, 1, 1, 0, 0, 1, 0, 1, 0, 0, 1, 0, 0, 0, 0, 0, 1],\n",
       "       [0, 0, 0, 1, 0, 0, 0, 1, 0, 1, 1, 1, 0, 0, 0, 0, 0, 0, 1],\n",
       "       [0, 0, 0, 1, 1, 1, 0, 1, 0, 1, 0, 0, 0, 0, 0, 0, 0, 0, 1],\n",
       "       [0, 0, 0, 0, 1, 0, 0, 0, 0, 1, 1, 1, 1, 0, 0, 0, 0, 0, 1]])"
      ]
     },
     "execution_count": 96,
     "metadata": {},
     "output_type": "execute_result"
    }
   ],
   "source": [
    "pref_dg['a']"
   ]
  },
  {
   "cell_type": "code",
   "execution_count": 1,
   "metadata": {},
   "outputs": [],
   "source": [
    "from recomendador import Recomendador\n",
    "import numpy as np"
   ]
  },
  {
   "cell_type": "code",
   "execution_count": 2,
   "metadata": {},
   "outputs": [],
   "source": [
    "recom = Recomendador(data_path='../data/')\n",
    "recom.load_grupos_demograficos()"
   ]
  },
  {
   "cell_type": "code",
   "execution_count": 3,
   "metadata": {},
   "outputs": [],
   "source": [
    "recom.load_preferencias(path='../data/preferencias.npz', path_dg='../data/preferencias_demografico.npz', path_hyb='../data/preferencias_hibrido.npz')"
   ]
  },
  {
   "cell_type": "code",
   "execution_count": 4,
   "metadata": {},
   "outputs": [
    {
     "ename": "NameError",
     "evalue": "name 'pearsonr' is not defined",
     "output_type": "error",
     "traceback": [
      "\u001b[1;31m---------------------------------------------------------------------------\u001b[0m",
      "\u001b[1;31mNameError\u001b[0m                                 Traceback (most recent call last)",
      "Cell \u001b[1;32mIn[4], line 1\u001b[0m\n\u001b[1;32m----> 1\u001b[0m pearsonr([\u001b[39m1\u001b[39m,\u001b[39m0\u001b[39m,\u001b[39m0\u001b[39m,\u001b[39m1\u001b[39m],[\u001b[39m1\u001b[39m,\u001b[39m0\u001b[39m,\u001b[39m0\u001b[39m,\u001b[39m1\u001b[39m])\n",
      "\u001b[1;31mNameError\u001b[0m: name 'pearsonr' is not defined"
     ]
    }
   ],
   "source": [
    "pearsonr([1,0,0,1],[1,0,0,1])"
   ]
  },
  {
   "cell_type": "code",
   "execution_count": 11,
   "metadata": {},
   "outputs": [
    {
     "name": "stderr",
     "output_type": "stream",
     "text": [
      "c:\\Users\\alcargra\\.conda\\envs\\scar\\lib\\site-packages\\scipy\\stats\\_stats_py.py:4424: ConstantInputWarning: An input array is constant; the correlation coefficient is not defined.\n",
      "  warnings.warn(stats.ConstantInputWarning(msg))\n"
     ]
    },
    {
     "data": {
      "text/plain": [
       "3"
      ]
     },
     "execution_count": 11,
     "metadata": {},
     "output_type": "execute_result"
    }
   ],
   "source": [
    "recom.obtener_vecinos(recom.preferencias_coop, 1, 5)[1].index(max(recom.obtener_vecinos(recom.preferencias_coop, 1, 5)[1]))"
   ]
  },
  {
   "cell_type": "code",
   "execution_count": 4,
   "metadata": {},
   "outputs": [],
   "source": [
    "recom.register_user(34, 'F', 'doctor', 'Mamahueva')"
   ]
  },
  {
   "cell_type": "code",
   "execution_count": 18,
   "metadata": {},
   "outputs": [
    {
     "data": {
      "text/plain": [
       "[134, 302, 483]"
      ]
     },
     "execution_count": 18,
     "metadata": {},
     "output_type": "execute_result"
    }
   ],
   "source": [
    "recom.obtener_recomendacion(1, 3)"
   ]
  },
  {
   "cell_type": "code",
   "execution_count": 8,
   "metadata": {},
   "outputs": [
    {
     "data": {
      "text/plain": [
       "[1,\n",
       " 2,\n",
       " 3,\n",
       " 4,\n",
       " 5,\n",
       " 7,\n",
       " 8,\n",
       " 9,\n",
       " 11,\n",
       " 13,\n",
       " 15,\n",
       " 16,\n",
       " 18,\n",
       " 19,\n",
       " 21,\n",
       " 22,\n",
       " 25,\n",
       " 26,\n",
       " 28,\n",
       " 29,\n",
       " 30,\n",
       " 32,\n",
       " 34,\n",
       " 35,\n",
       " 37,\n",
       " 38,\n",
       " 40,\n",
       " 41,\n",
       " 42,\n",
       " 43,\n",
       " 45,\n",
       " 46,\n",
       " 48,\n",
       " 50,\n",
       " 52,\n",
       " 55,\n",
       " 57,\n",
       " 58,\n",
       " 59,\n",
       " 63,\n",
       " 66,\n",
       " 68,\n",
       " 71,\n",
       " 75,\n",
       " 77,\n",
       " 79,\n",
       " 83,\n",
       " 87,\n",
       " 88,\n",
       " 89,\n",
       " 93,\n",
       " 94,\n",
       " 95,\n",
       " 99,\n",
       " 101,\n",
       " 105,\n",
       " 106,\n",
       " 109,\n",
       " 110,\n",
       " 111,\n",
       " 115,\n",
       " 116,\n",
       " 119,\n",
       " 122,\n",
       " 123,\n",
       " 124,\n",
       " 126,\n",
       " 127,\n",
       " 131,\n",
       " 133,\n",
       " 135,\n",
       " 136,\n",
       " 137,\n",
       " 138,\n",
       " 139,\n",
       " 141,\n",
       " 142,\n",
       " 144,\n",
       " 146,\n",
       " 147,\n",
       " 149,\n",
       " 152,\n",
       " 153,\n",
       " 156,\n",
       " 158,\n",
       " 162,\n",
       " 165,\n",
       " 166,\n",
       " 167,\n",
       " 168,\n",
       " 169,\n",
       " 172,\n",
       " 173,\n",
       " 176,\n",
       " 178,\n",
       " 179,\n",
       " 181,\n",
       " 182,\n",
       " 187,\n",
       " 191,\n",
       " 192,\n",
       " 194,\n",
       " 195,\n",
       " 197,\n",
       " 198,\n",
       " 199,\n",
       " 203,\n",
       " 204,\n",
       " 205,\n",
       " 207,\n",
       " 211,\n",
       " 216,\n",
       " 217,\n",
       " 220,\n",
       " 223,\n",
       " 231,\n",
       " 234,\n",
       " 237,\n",
       " 238,\n",
       " 239,\n",
       " 240,\n",
       " 244,\n",
       " 245,\n",
       " 246,\n",
       " 247,\n",
       " 249,\n",
       " 251,\n",
       " 256,\n",
       " 257,\n",
       " 261,\n",
       " 263,\n",
       " 268,\n",
       " 269,\n",
       " 270,\n",
       " 271]"
      ]
     },
     "execution_count": 8,
     "metadata": {},
     "output_type": "execute_result"
    }
   ],
   "source": [
    "recom.get_user_films(1)"
   ]
  },
  {
   "cell_type": "code",
   "execution_count": 9,
   "metadata": {},
   "outputs": [
    {
     "data": {
      "text/plain": [
       "True"
      ]
     },
     "execution_count": 9,
     "metadata": {},
     "output_type": "execute_result"
    }
   ],
   "source": [
    "recom.log_in(1, 'inicio1')"
   ]
  },
  {
   "cell_type": "code",
   "execution_count": 10,
   "metadata": {},
   "outputs": [
    {
     "data": {
      "text/plain": [
       "1"
      ]
     },
     "execution_count": 10,
     "metadata": {},
     "output_type": "execute_result"
    }
   ],
   "source": [
    "recom.user"
   ]
  },
  {
   "cell_type": "code",
   "execution_count": 11,
   "metadata": {},
   "outputs": [],
   "source": [
    "recom.rate_film(274,2)"
   ]
  },
  {
   "cell_type": "code",
   "execution_count": 12,
   "metadata": {},
   "outputs": [
    {
     "data": {
      "text/plain": [
       "[1,\n",
       " 2,\n",
       " 3,\n",
       " 4,\n",
       " 5,\n",
       " 7,\n",
       " 8,\n",
       " 9,\n",
       " 11,\n",
       " 13,\n",
       " 15,\n",
       " 16,\n",
       " 18,\n",
       " 19,\n",
       " 21,\n",
       " 22,\n",
       " 25,\n",
       " 26,\n",
       " 28,\n",
       " 29,\n",
       " 30,\n",
       " 32,\n",
       " 34,\n",
       " 35,\n",
       " 37,\n",
       " 38,\n",
       " 40,\n",
       " 41,\n",
       " 42,\n",
       " 43,\n",
       " 45,\n",
       " 46,\n",
       " 48,\n",
       " 50,\n",
       " 52,\n",
       " 55,\n",
       " 57,\n",
       " 58,\n",
       " 59,\n",
       " 63,\n",
       " 66,\n",
       " 68,\n",
       " 71,\n",
       " 75,\n",
       " 77,\n",
       " 79,\n",
       " 83,\n",
       " 87,\n",
       " 88,\n",
       " 89,\n",
       " 93,\n",
       " 94,\n",
       " 95,\n",
       " 99,\n",
       " 101,\n",
       " 105,\n",
       " 106,\n",
       " 109,\n",
       " 110,\n",
       " 111,\n",
       " 115,\n",
       " 116,\n",
       " 119,\n",
       " 122,\n",
       " 123,\n",
       " 124,\n",
       " 126,\n",
       " 127,\n",
       " 131,\n",
       " 133,\n",
       " 135,\n",
       " 136,\n",
       " 137,\n",
       " 138,\n",
       " 139,\n",
       " 141,\n",
       " 142,\n",
       " 144,\n",
       " 146,\n",
       " 147,\n",
       " 149,\n",
       " 152,\n",
       " 153,\n",
       " 156,\n",
       " 158,\n",
       " 162,\n",
       " 165,\n",
       " 166,\n",
       " 167,\n",
       " 168,\n",
       " 169,\n",
       " 172,\n",
       " 173,\n",
       " 176,\n",
       " 178,\n",
       " 179,\n",
       " 181,\n",
       " 182,\n",
       " 187,\n",
       " 191,\n",
       " 192,\n",
       " 194,\n",
       " 195,\n",
       " 197,\n",
       " 198,\n",
       " 199,\n",
       " 203,\n",
       " 204,\n",
       " 205,\n",
       " 207,\n",
       " 211,\n",
       " 216,\n",
       " 217,\n",
       " 220,\n",
       " 223,\n",
       " 231,\n",
       " 234,\n",
       " 237,\n",
       " 238,\n",
       " 239,\n",
       " 240,\n",
       " 244,\n",
       " 245,\n",
       " 246,\n",
       " 247,\n",
       " 249,\n",
       " 251,\n",
       " 256,\n",
       " 257,\n",
       " 261,\n",
       " 263,\n",
       " 268,\n",
       " 269,\n",
       " 270,\n",
       " 271,\n",
       " 274]"
      ]
     },
     "execution_count": 12,
     "metadata": {},
     "output_type": "execute_result"
    }
   ],
   "source": [
    "recom.get_user_films(1)"
   ]
  },
  {
   "cell_type": "code",
   "execution_count": 13,
   "metadata": {},
   "outputs": [
    {
     "data": {
      "text/plain": [
       "3"
      ]
     },
     "execution_count": 13,
     "metadata": {},
     "output_type": "execute_result"
    }
   ],
   "source": [
    "recom.get_user_film_rate(1,2)"
   ]
  }
 ],
 "metadata": {
  "kernelspec": {
   "display_name": "scar",
   "language": "python",
   "name": "python3"
  },
  "language_info": {
   "codemirror_mode": {
    "name": "ipython",
    "version": 3
   },
   "file_extension": ".py",
   "mimetype": "text/x-python",
   "name": "python",
   "nbconvert_exporter": "python",
   "pygments_lexer": "ipython3",
   "version": "3.9.16"
  },
  "orig_nbformat": 4
 },
 "nbformat": 4,
 "nbformat_minor": 2
}
